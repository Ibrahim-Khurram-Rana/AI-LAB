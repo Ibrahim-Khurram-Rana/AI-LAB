{
 "cells": [
  {
   "cell_type": "code",
   "execution_count": 34,
   "id": "03506af6-6e76-4cf2-957a-bdf46161d47a",
   "metadata": {},
   "outputs": [
    {
     "name": "stdout",
     "output_type": "stream",
     "text": [
      "TASK 1 a\n",
      "\n",
      "the total global sales of all games is 8920.44\n",
      "TASK 1 b\n",
      "\n",
      "the game with the highest global sales is Wii Sports\n",
      "TASK 1 c\n",
      "\n",
      "the average sales for each region are\n",
      "NA_Sales       0.264667\n",
      "EU_Sales       0.146652\n",
      "JP_Sales       0.077782\n",
      "Other_Sales    0.048063\n",
      "dtype: float64\n",
      "TASK 1 d\n",
      "\n",
      "the top 5 most popular game genres based on global sales are\n",
      "Genre\n",
      "Action          1751.18\n",
      "Sports          1330.93\n",
      "Shooter         1037.37\n",
      "Role-Playing     927.37\n",
      "Platform         831.37\n",
      "Name: Global_Sales, dtype: float64\n",
      "TASK 1 e\n",
      "\n",
      "the most popular genre in North America is Action\n",
      "TASK 1 f\n",
      "\n",
      "        Rank                                               Name Platform  \\\n",
      "16588  16591                                   Mega Brain Boost       DS   \n",
      "16589  16592  Chou Ezaru wa Akai Hana: Koi wa Tsuki ni Shiru...      PSV   \n",
      "16590  16593  Eiyuu Densetsu: Sora no Kiseki Material Collec...      PSP   \n",
      "16591  16594                                Myst IV: Revelation       PC   \n",
      "16592  16595                                           Plushees       DS   \n",
      "16593  16596                 Woody Woodpecker in Crazy Castle 5      GBA   \n",
      "16594  16597                      Men in Black II: Alien Escape       GC   \n",
      "16595  16598   SCORE International Baja 1000: The Official Game      PS2   \n",
      "16596  16599                                         Know How 2       DS   \n",
      "16597  16600                                   Spirits & Spells      GBA   \n",
      "\n",
      "         Year         Genre              Publisher  NA_Sales  EU_Sales  \\\n",
      "16588  2008.0        Puzzle  Majesco Entertainment      0.01      0.00   \n",
      "16589  2016.0        Action        dramatic create      0.00      0.00   \n",
      "16590  2007.0  Role-Playing     Falcom Corporation      0.00      0.00   \n",
      "16591  2004.0     Adventure                Ubisoft      0.01      0.00   \n",
      "16592  2008.0    Simulation              Destineer      0.01      0.00   \n",
      "16593  2002.0      Platform                  Kemco      0.01      0.00   \n",
      "16594  2003.0       Shooter             Infogrames      0.01      0.00   \n",
      "16595  2008.0        Racing             Activision      0.00      0.00   \n",
      "16596  2010.0        Puzzle               7G//AMES      0.00      0.01   \n",
      "16597  2003.0      Platform                Wanadoo      0.01      0.00   \n",
      "\n",
      "       JP_Sales  Other_Sales  Global_Sales  \n",
      "16588      0.00          0.0          0.01  \n",
      "16589      0.01          0.0          0.01  \n",
      "16590      0.01          0.0          0.01  \n",
      "16591      0.00          0.0          0.01  \n",
      "16592      0.00          0.0          0.01  \n",
      "16593      0.00          0.0          0.01  \n",
      "16594      0.00          0.0          0.01  \n",
      "16595      0.00          0.0          0.01  \n",
      "16596      0.00          0.0          0.01  \n",
      "16597      0.00          0.0          0.01  \n",
      "TASK 1 g\n",
      "\n",
      "the top 3 gaming platforms with the highest global sales are\n",
      "Platform\n",
      "PS2     1255.64\n",
      "X360     979.96\n",
      "PS3      957.84\n",
      "Name: Global_Sales, dtype: float64\n",
      "TASK 1 h\n",
      "\n",
      "the market share for each genre is\n",
      "Genre\n",
      "Action          19.631094\n",
      "Adventure        2.679688\n",
      "Fighting         5.032375\n",
      "Misc             9.079821\n",
      "Platform         9.319832\n",
      "Puzzle           2.745941\n",
      "Racing           8.206322\n",
      "Role-Playing    10.396012\n",
      "Shooter         11.629135\n",
      "Simulation       4.396644\n",
      "Sports          14.920004\n",
      "Strategy         1.963132\n",
      "Name: Global_Sales, dtype: float64\n",
      "TASK 1 i\n",
      "\n",
      "the correlation coefficient between NA_Sales and EU_Sales is 0.7677267483702636\n"
     ]
    }
   ],
   "source": [
    "## TASK 1\n",
    "import pandas as pd\n",
    "url = \"https://raw.githubusercontent.com/TirendazAcademy/PANDAS-TUTORIAL/main/DataSets/vgsalesGlobale.csv\"\n",
    "df = pd.read_csv(url)\n",
    "\n",
    "#calculate the total global sales for all games in the dataset\n",
    "print(\"TASK 1 a\\n\")\n",
    "total_sales = df[\"Global_Sales\"].sum()\n",
    "print(f\"the total global sales of all games is {total_sales}\")\n",
    "#find the game with the highest global sales\n",
    "print(\"TASK 1 b\\n\")\n",
    "max_sales = df[\"Global_Sales\"].max()\n",
    "game_with_max_sales = df[df[\"Global_Sales\"] == max_sales]\n",
    "print(f\"the game with the highest global sales is {game_with_max_sales['Name'].values[0]}\")\n",
    "#determine the average sales for each region\n",
    "print(\"TASK 1 c\\n\")\n",
    "average_sales = df[[\"NA_Sales\",\"EU_Sales\",\"JP_Sales\",\"Other_Sales\"]].mean()\n",
    "print(f\"the average sales for each region are\\n{average_sales}\")\n",
    "#Find the top 5 most popular game genres based on global sales\n",
    "print(\"TASK 1 d\\n\")\n",
    "top_5_genres = df.groupby(\"Genre\")[\"Global_Sales\"].sum().sort_values(ascending=False).head(5)\n",
    "print(f\"the top 5 most popular game genres based on global sales are\\n{top_5_genres}\")\n",
    "#Calculate the total sales for each genre in each region and find the most popular genre in North America (NA_Sales).\n",
    "print(\"TASK 1 e\\n\")\n",
    "total_sales_per_genre = df.groupby(\"Genre\")[[\"NA_Sales\",\"EU_Sales\",\"JP_Sales\",\"Other_Sales\"]].sum()\n",
    "most_popular_genre_in_NA = total_sales_per_genre[\"NA_Sales\"].idxmax()\n",
    "print(f\"the most popular genre in North America is {most_popular_genre_in_NA}\")\n",
    "#Display the last 10 rows\n",
    "print(\"TASK 1 f\\n\")\n",
    "print(df.tail(10))\n",
    "#Determine the top 3 gaming platforms with the highest global sales.\n",
    "print(\"TASK 1 g\\n\")\n",
    "top_3_platforms = df.groupby(\"Platform\")[\"Global_Sales\"].sum().sort_values(ascending=False).head(3)\n",
    "print(f\"the top 3 gaming platforms with the highest global sales are\\n{top_3_platforms}\")\n",
    "#Calculate the market share (percentage of global sales) for each genre.\n",
    "print(\"TASK 1 h\\n\")\n",
    "market_share = df.groupby(\"Genre\")[\"Global_Sales\"].sum() / total_sales * 100\n",
    "print(f\"the market share for each genre is\\n{market_share}\")\n",
    "#Calculate the correlation coefficient between NA_Sales and EU_Sales. (.corr function)\n",
    "print(\"TASK 1 i\\n\")\n",
    "correlation = df[\"NA_Sales\"].corr(df[\"EU_Sales\"])\n",
    "print(f\"the correlation coefficient between NA_Sales and EU_Sales is {correlation}\")"
   ]
  },
  {
   "cell_type": "code",
   "execution_count": 37,
   "id": "2a24480e-0bdd-455b-808c-195a9d566dbf",
   "metadata": {},
   "outputs": [
    {
     "name": "stdin",
     "output_type": "stream",
     "text": [
      "Enter an English word to translate (or type 'exit' to quit):  book\n"
     ]
    },
    {
     "name": "stdout",
     "output_type": "stream",
     "text": [
      "The Spanish translation for 'book' is: libro\n"
     ]
    },
    {
     "name": "stdin",
     "output_type": "stream",
     "text": [
      "Enter an English word to translate (or type 'exit' to quit):  exit\n"
     ]
    },
    {
     "name": "stdout",
     "output_type": "stream",
     "text": [
      "Thank you for using the dictionary. Goodbye!\n"
     ]
    }
   ],
   "source": [
    "## TASK 2\n",
    "english_spanish_dict = {\n",
    "    \"hello\": \"hola\",\n",
    "    \"goodbye\": \"adiós\",\n",
    "    \"please\": \"por favor\",\n",
    "    \"thank you\": \"gracias\",\n",
    "    \"yes\": \"sí\",\n",
    "    \"no\": \"no\",\n",
    "    \"cat\": \"gato\",\n",
    "    \"dog\": \"perro\",\n",
    "    \"house\": \"casa\",\n",
    "    \"book\": \"libro\",\n",
    "}\n",
    "\n",
    "while True:\n",
    "    english_word = input(\"Enter an English word to translate (or type 'exit' to quit): \").strip().lower()\n",
    "    \n",
    "    if english_word == \"exit\":\n",
    "        print(\"Thank you for using the dictionary. Goodbye!\")\n",
    "        break\n",
    "    \n",
    "    if english_word in english_spanish_dict:\n",
    "        print(f\"The Spanish translation for '{english_word}' is: {english_spanish_dict[english_word]}\")\n",
    "    else:\n",
    "        print(f\"Sorry, the translation for '{english_word}' is not available.\")\n"
   ]
  },
  {
   "cell_type": "code",
   "execution_count": 40,
   "id": "15530e25-8f2a-4b76-a1c9-289df787750a",
   "metadata": {},
   "outputs": [
    {
     "name": "stdout",
     "output_type": "stream",
     "text": [
      "Important Emails:\n",
      "meeting scheduled with FYP supervisor at 10AM\n",
      "Project update required by the end of the day\n",
      "Urgent: Deadline approaching for the quarterly report\n",
      "\n",
      "Promotions Emails:\n",
      "SALE AT LEVIS: Get 2 jeans for the price of 1\n",
      "Special Discount on your next purchase\n",
      "Promotion: Get 2 for the price of 1 this week\n",
      "\n",
      "Spam Emails:\n",
      "Win a FREE vacation to Hawaii! Click here for details\n",
      "Claim your prize now! You've won a lottery\n"
     ]
    }
   ],
   "source": [
    "## TASK 3\n",
    "def classify_emails(email_list):\n",
    "    important_keywords = [\"meeting\", \"urgent\", \"project\", \"deadline\", \"schedule\"]\n",
    "    promotion_keywords = [\"sale\", \"discount\", \"offer\", \"deal\", \"promotion\"]\n",
    "    spam_keywords = [\"win\", \"free\", \"lottery\", \"prize\", \"click here\"]\n",
    "    important_emails = []\n",
    "    promotion_emails = []\n",
    "    spam_emails = []\n",
    "    for email in email_list:\n",
    "        email_lower = email.lower()\n",
    "        if any(keyword in email_lower for keyword in important_keywords):\n",
    "            important_emails.append(email)\n",
    "        elif any(keyword in email_lower for keyword in promotion_keywords):\n",
    "            promotion_emails.append(email)\n",
    "        elif any(keyword in email_lower for keyword in spam_keywords):\n",
    "            spam_emails.append(email)\n",
    "\n",
    "    return important_emails, promotion_emails, spam_emails\n",
    "emails = [\n",
    "    \"meeting scheduled with FYP supervisor at 10AM\",\n",
    "    \"SALE AT LEVIS: Get 2 jeans for the price of 1\",\n",
    "    \"Win a FREE vacation to Hawaii! Click here for details\",\n",
    "    \"Project update required by the end of the day\",\n",
    "    \"Special Discount on your next purchase\",\n",
    "    \"Claim your prize now! You've won a lottery\",\n",
    "    \"Urgent: Deadline approaching for the quarterly report\",\n",
    "    \"Promotion: Get 2 for the price of 1 this week\",\n",
    "]\n",
    "important, promotions, spam = classify_emails(emails)\n",
    "print(\"Important Emails:\")\n",
    "print(\"\\n\".join(important))\n",
    "print(\"\\nPromotions Emails:\")\n",
    "print(\"\\n\".join(promotions))\n",
    "print(\"\\nSpam Emails:\")\n",
    "print(\"\\n\".join(spam))\n"
   ]
  },
  {
   "cell_type": "code",
   "execution_count": 28,
   "id": "7488212f-ecb5-48ef-afcf-decb99d7e38c",
   "metadata": {},
   "outputs": [
    {
     "name": "stdout",
     "output_type": "stream",
     "text": [
      "Welcome to the Tech Store!\n",
      "Available Products:\n",
      "1. AI Response Simulator - $199\n",
      "2. Investment Decision Tool - $299\n",
      "3. Quantum Computing API Access - $999\n",
      "\n",
      "Options:\n",
      "1-3: Add product to cart\n",
      "q: Checkout and exit\n"
     ]
    },
    {
     "name": "stdin",
     "output_type": "stream",
     "text": [
      "\n",
      "Enter your choice (1-3/q):  1\n"
     ]
    },
    {
     "name": "stdout",
     "output_type": "stream",
     "text": [
      "\n",
      "AI Response Simulator added to your cart!\n",
      "\n",
      "Options:\n",
      "1-3: Add product to cart\n",
      "q: Checkout and exit\n"
     ]
    },
    {
     "name": "stdin",
     "output_type": "stream",
     "text": [
      "\n",
      "Enter your choice (1-3/q):  1\n"
     ]
    },
    {
     "name": "stdout",
     "output_type": "stream",
     "text": [
      "\n",
      "AI Response Simulator added to your cart!\n",
      "\n",
      "Options:\n",
      "1-3: Add product to cart\n",
      "q: Checkout and exit\n"
     ]
    },
    {
     "name": "stdin",
     "output_type": "stream",
     "text": [
      "\n",
      "Enter your choice (1-3/q):  1\n"
     ]
    },
    {
     "name": "stdout",
     "output_type": "stream",
     "text": [
      "\n",
      "AI Response Simulator added to your cart!\n",
      "\n",
      "Options:\n",
      "1-3: Add product to cart\n",
      "q: Checkout and exit\n"
     ]
    },
    {
     "name": "stdin",
     "output_type": "stream",
     "text": [
      "\n",
      "Enter your choice (1-3/q):  1\n"
     ]
    },
    {
     "name": "stdout",
     "output_type": "stream",
     "text": [
      "\n",
      "AI Response Simulator added to your cart!\n",
      "\n",
      "Options:\n",
      "1-3: Add product to cart\n",
      "q: Checkout and exit\n"
     ]
    },
    {
     "name": "stdin",
     "output_type": "stream",
     "text": [
      "\n",
      "Enter your choice (1-3/q):  q\n"
     ]
    },
    {
     "name": "stdout",
     "output_type": "stream",
     "text": [
      "\n",
      "Your Shopping Cart:\n",
      "1. AI Response Simulator\n",
      "2. AI Response Simulator\n",
      "3. AI Response Simulator\n",
      "4. AI Response Simulator\n",
      "\n",
      "Thank you for shopping with us! Have a great day!\n"
     ]
    }
   ],
   "source": [
    "## TASK 4\n",
    "shopping_cart = []\n",
    "\n",
    "print(\"Welcome to the Tech Store!\")\n",
    "print(\"Available Products:\")\n",
    "print(\"1. AI Response Simulator - $199\")\n",
    "print(\"2. Investment Decision Tool - $299\")\n",
    "print(\"3. Quantum Computing API Access - $999\")\n",
    "\n",
    "while True:\n",
    "    print(\"\\nOptions:\")\n",
    "    print(\"1-3: Add product to cart\")\n",
    "    print(\"q: Checkout and exit\")\n",
    "    \n",
    "    user_input = input(\"\\nEnter your choice (1-3/q): \").strip().lower()\n",
    "    \n",
    "    if user_input == 'q':\n",
    "        break\n",
    "        \n",
    "    try:\n",
    "        choice = int(user_input)\n",
    "        if 1 <= choice <= 3:\n",
    "            products = [\n",
    "                \"AI Response Simulator\",\n",
    "                \"Investment Decision Tool\",\n",
    "                \"Quantum Computing API Access\"\n",
    "            ]\n",
    "            selected_product = products[choice - 1]\n",
    "            shopping_cart.append(selected_product)\n",
    "            print(f\"\\n{selected_product} added to your cart!\")\n",
    "        else:\n",
    "            print(\"\\nPlease enter a number between 1 and 3\")\n",
    "    except ValueError:\n",
    "        print(\"\\nInvalid input. Please enter a number (1-3) or 'q' to checkout\")\n",
    "\n",
    "print(\"\\nYour Shopping Cart:\")\n",
    "for index, item in enumerate(shopping_cart, 1):\n",
    "    print(f\"{index}. {item}\")\n",
    "\n",
    "print(\"\\nThank you for shopping with us! Have a great day!\")"
   ]
  },
  {
   "cell_type": "code",
   "execution_count": 22,
   "id": "9e5c3391-7f3c-40b0-9f56-8410489ca7a2",
   "metadata": {},
   "outputs": [
    {
     "name": "stdout",
     "output_type": "stream",
     "text": [
      "Element-wise Addition:\n",
      "[[ 6  8]\n",
      " [10 12]]\n",
      "\n",
      "Element-wise Product:\n",
      "[[ 5 12]\n",
      " [21 32]]\n"
     ]
    }
   ],
   "source": [
    "## TASK 5\n",
    "## 1 ADDITION\n",
    "import numpy as np\n",
    "arr1 = np.array([[1, 2], [3, 4]])\n",
    "arr2 = np.array([[5, 6], [7, 8]])\n",
    "addition = arr1 + arr2\n",
    "\n",
    "print(\"Element-wise Addition:\")\n",
    "print(addition)\n",
    "\n",
    "## 2 PRODUCT\n",
    "\n",
    "import numpy as np\n",
    "\n",
    "arr1 = np.array([[1, 2], [3, 4]])\n",
    "arr2 = np.array([[5, 6], [7, 8]])\n",
    "\n",
    "prodct = arr1 * arr2\n",
    "\n",
    "print(\"\\nElement-wise Product:\")\n",
    "print(prodct)\n"
   ]
  },
  {
   "cell_type": "code",
   "execution_count": 11,
   "id": "d3d94570-ac05-4906-bd40-deb3b8c81150",
   "metadata": {},
   "outputs": [
    {
     "name": "stdout",
     "output_type": "stream",
     "text": [
      "Reshaped 2D Array:\n",
      "[[ 0  1  2  3]\n",
      " [ 4  5  6  7]\n",
      " [ 8  9 10 11]]\n",
      "Horizontally Concatenated Array:\n",
      "[[1 2 5 6]\n",
      " [3 4 7 8]]\n",
      "\n",
      "Vertically Concatenated Array:\n",
      "[[1 2]\n",
      " [3 4]\n",
      " [5 6]\n",
      " [7 8]]\n"
     ]
    }
   ],
   "source": [
    "## TASK 6\n",
    "## 1 RESHAPUNG\n",
    "import numpy as np\n",
    "\n",
    "ONEDARRAY = np.arange(12)\n",
    "\n",
    "TWODARRAY = ONEDARRAY.reshape(3, 4)\n",
    "\n",
    "print(\"Reshaped 2D Array:\")\n",
    "print(TWODARRAY)\n",
    "\n",
    "## 2 CONCATENATE\n",
    "arr1 = np.array([[1, 2], [3, 4]])\n",
    "arr2 = np.array([[5, 6], [7, 8]])\n",
    "\n",
    "horizontally_concatenated = np.hstack((arr1, arr2))\n",
    "\n",
    "vertically_concatenated = np.vstack((arr1, arr2))\n",
    "\n",
    "print(\"Horizontally Concatenated Array:\")\n",
    "print(horizontally_concatenated)\n",
    "\n",
    "print(\"\\nVertically Concatenated Array:\")\n",
    "print(vertically_concatenated)\n"
   ]
  },
  {
   "cell_type": "code",
   "execution_count": 9,
   "id": "6d8094ac-5346-439c-9df5-e48cea6abab9",
   "metadata": {},
   "outputs": [
    {
     "name": "stdout",
     "output_type": "stream",
     "text": [
      "[5, 4, 3, 2, 1]\n"
     ]
    }
   ],
   "source": [
    "## TASK 7\n",
    "l = [1, 2, 3, 4, 5]\n",
    "reverse = l[::-1]\n",
    "print(reverse)\n"
   ]
  }
 ],
 "metadata": {
  "kernelspec": {
   "display_name": "Python [conda env:base] *",
   "language": "python",
   "name": "conda-base-py"
  },
  "language_info": {
   "codemirror_mode": {
    "name": "ipython",
    "version": 3
   },
   "file_extension": ".py",
   "mimetype": "text/x-python",
   "name": "python",
   "nbconvert_exporter": "python",
   "pygments_lexer": "ipython3",
   "version": "3.12.7"
  }
 },
 "nbformat": 4,
 "nbformat_minor": 5
}
